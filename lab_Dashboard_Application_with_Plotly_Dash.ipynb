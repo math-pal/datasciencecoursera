{
 "cells": [
  {
   "cell_type": "markdown",
   "id": "ffb59105-50fc-4bca-a9a9-7c8199aa7d2e",
   "metadata": {},
   "source": [
    "# Build a Dashboard Application with Plotly Dash\n",
    "In this lab, you will be building a Plotly Dash application for users to perform interactive visual analytics on SpaceX launch data in\n",
    "real-time.\n",
    "\n",
    "This dashboard application contains input components such as a dropdown list and a range slider to\n",
    "interact with a pie chart and a scatter point chart. You will be guided to build this dashboard application via the following tasks:\n",
    "\n",
    "* TASK 1: Add a Launch Site Drop-down Input Component\n",
    "* TASK 2: Add a callback function to render success-pie-chart based on selected site dropdown\n",
    "* TASK 3: Add a Range Slider to Select Payload\n",
    "* TASK 4: Add a callback function to render the success-payload-scatter-chart scatter plot\n",
    "\n",
    "Note:Please take screenshots of the Dashboard and save them. Further upload your notebook to github.\n",
    "\n",
    "The github url and the screenshots are later required in the presentation slides.\n",
    "\n",
    "Your completed dashboard application should look like the following screenshot:"
   ]
  },
  {
   "cell_type": "markdown",
   "id": "f4499828-8cce-4a01-a4e1-f36152fab9a8",
   "metadata": {},
   "source": [
    "After visual analysis using the dashboard, you should be able to obtain some insights to answer the following five questions:\n",
    "\n",
    "Which site has the largest successful launches?\n",
    "Which site has the highest launch success rate?\n",
    "Which payload range(s) has the highest launch success rate?\n",
    "Which payload range(s) has the lowest launch success rate?\n",
    "Which F9 Booster version (v1.0, v1.1, FT, B4, B5, etc.) has the highest\n",
    "launch success rate?"
   ]
  },
  {
   "cell_type": "markdown",
   "id": "47926f1a-ad50-4d64-8976-e188300cc6a5",
   "metadata": {},
   "source": [
    "## Important Notice about this lab environment\n",
    "Please be aware that sessions for this lab environment are not persisted. When you launch the Cloud IDE, you are presented with a ‘dedicated computer on the cloud’ exclusively for you. This is available to you as long as you are actively working on the labs.\n",
    "Once you close your session or it is timed out due to inactivity,\n",
    "you are logged off, and this dedicated computer on the cloud is deleted along with any files you may have created, downloaded or installed.\n",
    "\n",
    "The next time you launch this lab, a new environment is created for you.\n",
    "If you finish only part of the lab and return later, you may have to start from the beginning. So, it is a good idea to plan your time accordingly and finish your labs in a single session."
   ]
  },
  {
   "cell_type": "markdown",
   "id": "2dd4d1e5-a135-49b7-86a8-6be5d6b44671",
   "metadata": {},
   "source": [
    "## Install python packages required to run the application."
   ]
  },
  {
   "cell_type": "code",
   "execution_count": 1,
   "id": "4ab7adfc-2598-4767-aeef-200511f2a0c2",
   "metadata": {
    "tags": []
   },
   "outputs": [],
   "source": [
    "#!pip install pandas dash"
   ]
  },
  {
   "cell_type": "code",
   "execution_count": 1,
   "id": "ada2e07b-3b09-496d-94f4-6569d447ba91",
   "metadata": {
    "tags": []
   },
   "outputs": [],
   "source": [
    "import dash\n",
    "from dash import dcc\n",
    "from dash import html\n",
    "from dash.dependencies import Input, Output\n",
    "import pandas as pd\n",
    "import plotly.graph_objs as go\n",
    "import plotly.express as px\n",
    "\n",
    "#------------------------------------------\n",
    "\n",
    "#import dash_html_components as html\n",
    "#import dash_core_components as dcc\n"
   ]
  },
  {
   "cell_type": "markdown",
   "id": "1ff902a6-f87f-4d29-aee2-51844e1df123",
   "metadata": {},
   "source": [
    "## Download dataset"
   ]
  },
  {
   "cell_type": "code",
   "execution_count": 2,
   "id": "a7c27385-e409-4fd9-bd13-e7b43d2bb392",
   "metadata": {
    "tags": []
   },
   "outputs": [],
   "source": [
    "url_data = \"https://cf-courses-data.s3.us.cloud-object-storage.appdomain.cloud/IBM-DS0321EN-SkillsNetwork/datasets/spacex_launch_dash.csv\""
   ]
  },
  {
   "cell_type": "markdown",
   "id": "4a5307cb-d3a6-42df-8641-ad98921a198f",
   "metadata": {},
   "source": [
    "## Download a skeleton Dash app to be completed in this lab:"
   ]
  },
  {
   "cell_type": "code",
   "execution_count": 3,
   "id": "aabcab0a-354f-41d7-95ae-890bab1df3f6",
   "metadata": {},
   "outputs": [
    {
     "name": "stdout",
     "output_type": "stream",
     "text": [
      "File 'spacex_dash_app.py' has been successfully downloaded.\n"
     ]
    }
   ],
   "source": [
    "import requests\n",
    "\n",
    "url = \"https://cf-courses-data.s3.us.cloud-object-storage.appdomain.cloud/IBM-DS0321EN-SkillsNetwork/labs/module_3/spacex_dash_app.py\"\n",
    "response = requests.get(url)\n",
    "\n",
    "if response.status_code == 200:\n",
    "    with open(\"spacex_dash_app.py\", \"wb\") as file:\n",
    "        file.write(response.content)\n",
    "        print(\"File 'spacex_dash_app.py' has been successfully downloaded.\")\n",
    "else:\n",
    "    print(\"Failed to download the file. Status code:\", response.status_code)"
   ]
  },
  {
   "cell_type": "markdown",
   "id": "84d6188a-e5db-4749-80eb-08059349e6a5",
   "metadata": {},
   "source": [
    "## Read the file"
   ]
  },
  {
   "cell_type": "code",
   "execution_count": 5,
   "id": "2717085d-011e-4c67-9df7-04fcb09cc148",
   "metadata": {
    "collapsed": true,
    "jupyter": {
     "outputs_hidden": true
    },
    "tags": []
   },
   "outputs": [
    {
     "name": "stdout",
     "output_type": "stream",
     "text": [
      "# Import required libraries\n",
      "import pandas as pd\n",
      "import dash\n",
      "import dash_html_components as html\n",
      "import dash_core_components as dcc\n",
      "from dash.dependencies import Input, Output\n",
      "import plotly.express as px\n",
      "\n",
      "# Read the airline data into pandas dataframe\n",
      "spacex_df = pd.read_csv(\"spacex_launch_dash.csv\")\n",
      "max_payload = spacex_df['Payload Mass (kg)'].max()\n",
      "min_payload = spacex_df['Payload Mass (kg)'].min()\n",
      "\n",
      "# Create a dash application\n",
      "app = dash.Dash(__name__)\n",
      "\n",
      "# Create an app layout\n",
      "app.layout = html.Div(children=[html.H1('SpaceX Launch Records Dashboard',\n",
      "                                        style={'textAlign': 'center', 'color': '#503D36',\n",
      "                                               'font-size': 40}),\n",
      "                                # TASK 1: Add a dropdown list to enable Launch Site selection\n",
      "                                # The default select value is for ALL sites\n",
      "                                # dcc.Dropdown(id='site-dropdown',...)\n",
      "                                html.Br(),\n",
      "\n",
      "                                # TASK 2: Add a pie chart to show the total successful launches count for all sites\n",
      "                                # If a specific launch site was selected, show the Success vs. Failed counts for the site\n",
      "                                html.Div(dcc.Graph(id='success-pie-chart')),\n",
      "                                html.Br(),\n",
      "\n",
      "                                html.P(\"Payload range (Kg):\"),\n",
      "                                # TASK 3: Add a slider to select payload range\n",
      "                                #dcc.RangeSlider(id='payload-slider',...)\n",
      "\n",
      "                                # TASK 4: Add a scatter chart to show the correlation between payload and launch success\n",
      "                                html.Div(dcc.Graph(id='success-payload-scatter-chart')),\n",
      "                                ])\n",
      "\n",
      "# TASK 2:\n",
      "# Add a callback function for `site-dropdown` as input, `success-pie-chart` as output\n",
      "\n",
      "# TASK 4:\n",
      "# Add a callback function for `site-dropdown` and `payload-slider` as inputs, `success-payload-scatter-chart` as output\n",
      "\n",
      "\n",
      "# Run the app\n",
      "if __name__ == '__main__':\n",
      "    app.run_server()\n",
      "\n"
     ]
    }
   ],
   "source": [
    "# Specify the file path\n",
    "#file_path = \"spacex_dash_app.py\"\n",
    "\n",
    "# Read and display the content of the file\n",
    "with open(\"spacex_dash_app.py\", \"r\") as file:\n",
    "    content = file.read()\n",
    "\n",
    "# Display the content\n",
    "print(content)"
   ]
  },
  {
   "cell_type": "code",
   "execution_count": 6,
   "id": "15f990fa-10e8-441b-ba8a-c4f8dbfa7064",
   "metadata": {
    "tags": []
   },
   "outputs": [],
   "source": [
    "# Read the airline data into pandas dataframe\n",
    "spacex_df = pd.read_csv(url_data)\n",
    "max_payload = spacex_df['Payload Mass (kg)'].max()\n",
    "min_payload = spacex_df['Payload Mass (kg)'].min()"
   ]
  },
  {
   "cell_type": "code",
   "execution_count": 16,
   "id": "505352ad-9d49-4779-a4bf-1117a6200b7e",
   "metadata": {
    "tags": []
   },
   "outputs": [
    {
     "data": {
      "text/html": [
       "<div>\n",
       "<style scoped>\n",
       "    .dataframe tbody tr th:only-of-type {\n",
       "        vertical-align: middle;\n",
       "    }\n",
       "\n",
       "    .dataframe tbody tr th {\n",
       "        vertical-align: top;\n",
       "    }\n",
       "\n",
       "    .dataframe thead th {\n",
       "        text-align: right;\n",
       "    }\n",
       "</style>\n",
       "<table border=\"1\" class=\"dataframe\">\n",
       "  <thead>\n",
       "    <tr style=\"text-align: right;\">\n",
       "      <th></th>\n",
       "      <th>Unnamed: 0</th>\n",
       "      <th>Flight Number</th>\n",
       "      <th>Launch Site</th>\n",
       "      <th>class</th>\n",
       "      <th>Payload Mass (kg)</th>\n",
       "      <th>Booster Version</th>\n",
       "      <th>Booster Version Category</th>\n",
       "    </tr>\n",
       "  </thead>\n",
       "  <tbody>\n",
       "    <tr>\n",
       "      <th>0</th>\n",
       "      <td>0</td>\n",
       "      <td>1</td>\n",
       "      <td>CCAFS LC-40</td>\n",
       "      <td>0</td>\n",
       "      <td>0.0</td>\n",
       "      <td>F9 v1.0  B0003</td>\n",
       "      <td>v1.0</td>\n",
       "    </tr>\n",
       "    <tr>\n",
       "      <th>1</th>\n",
       "      <td>1</td>\n",
       "      <td>2</td>\n",
       "      <td>CCAFS LC-40</td>\n",
       "      <td>0</td>\n",
       "      <td>0.0</td>\n",
       "      <td>F9 v1.0  B0004</td>\n",
       "      <td>v1.0</td>\n",
       "    </tr>\n",
       "    <tr>\n",
       "      <th>2</th>\n",
       "      <td>2</td>\n",
       "      <td>3</td>\n",
       "      <td>CCAFS LC-40</td>\n",
       "      <td>0</td>\n",
       "      <td>525.0</td>\n",
       "      <td>F9 v1.0  B0005</td>\n",
       "      <td>v1.0</td>\n",
       "    </tr>\n",
       "    <tr>\n",
       "      <th>3</th>\n",
       "      <td>3</td>\n",
       "      <td>4</td>\n",
       "      <td>CCAFS LC-40</td>\n",
       "      <td>0</td>\n",
       "      <td>500.0</td>\n",
       "      <td>F9 v1.0  B0006</td>\n",
       "      <td>v1.0</td>\n",
       "    </tr>\n",
       "    <tr>\n",
       "      <th>4</th>\n",
       "      <td>4</td>\n",
       "      <td>5</td>\n",
       "      <td>CCAFS LC-40</td>\n",
       "      <td>0</td>\n",
       "      <td>677.0</td>\n",
       "      <td>F9 v1.0  B0007</td>\n",
       "      <td>v1.0</td>\n",
       "    </tr>\n",
       "  </tbody>\n",
       "</table>\n",
       "</div>"
      ],
      "text/plain": [
       "   Unnamed: 0  Flight Number  Launch Site  class  Payload Mass (kg)  \\\n",
       "0           0              1  CCAFS LC-40      0                0.0   \n",
       "1           1              2  CCAFS LC-40      0                0.0   \n",
       "2           2              3  CCAFS LC-40      0              525.0   \n",
       "3           3              4  CCAFS LC-40      0              500.0   \n",
       "4           4              5  CCAFS LC-40      0              677.0   \n",
       "\n",
       "  Booster Version Booster Version Category  \n",
       "0  F9 v1.0  B0003                     v1.0  \n",
       "1  F9 v1.0  B0004                     v1.0  \n",
       "2  F9 v1.0  B0005                     v1.0  \n",
       "3  F9 v1.0  B0006                     v1.0  \n",
       "4  F9 v1.0  B0007                     v1.0  "
      ]
     },
     "execution_count": 16,
     "metadata": {},
     "output_type": "execute_result"
    }
   ],
   "source": [
    "spacex_df.head()"
   ]
  },
  {
   "cell_type": "code",
   "execution_count": 7,
   "id": "aeb3ed32-f77e-4a94-9ff8-09ec371d6494",
   "metadata": {
    "tags": []
   },
   "outputs": [],
   "source": [
    "# Create a dash application\n",
    "app = dash.Dash(__name__)\n",
    "\n",
    "# Create an app layout\n",
    "app.layout = html.Div(children=[html.H1('SpaceX Launch Records Dashboard',\n",
    "                                        style={'textAlign': 'center', 'color': '#503D36',\n",
    "                                               'font-size': 40}),\n",
    "                                # TASK 1: Add a dropdown list to enable Launch Site selection\n",
    "                                # The default select value is for ALL sites\n",
    "                                dcc.Dropdown(id='site-dropdown',\n",
    "                                           options=[\n",
    "                                               {'label': 'All Sites', 'value': 'ALL'},\n",
    "                                               {'label': 'CCAFS LC-40', 'value': 'CCAFS LC-40'},\n",
    "                                               {'label': 'CCAFS SLC-40', 'value': 'CCAFS SLC-40'},\n",
    "                                               {'label': 'KSC LC-39A', 'value': 'KSC LC-39A'},\n",
    "                                               {'label': 'VAFB SLC-4E', 'value': 'VAFB SLC-4E'},\n",
    "                                               ],\n",
    "                                           value='ALL',\n",
    "                                           placeholder=\"Select a Launch Site here\",\n",
    "                                           searchable=True\n",
    "                                           ),\n",
    "                                html.Br(),\n",
    "\n",
    "                                # TASK 2: Add a pie chart to show the total successful launches count for all sites\n",
    "                                # If a specific launch site was selected, show the Success vs. Failed counts for the site\n",
    "                                #html.Div(dcc.Graph(id='success-pie-chart')),\n",
    "                                #html.Br(),\n",
    "\n",
    "                                #html.P(\"Payload range (Kg):\"),\n",
    "                                # TASK 3: Add a slider to select payload range\n",
    "                                #dcc.RangeSlider(id='payload-slider',...)\n",
    "                                dcc.RangeSlider(id='payload-slider',\n",
    "                                                min=spacex_df['Payload Mass (kg)'].min(),\n",
    "                                                max=spacex_df['Payload Mass (kg)'].max(),\n",
    "                                                step=1000,\n",
    "                                                marks={i: str(i) for i in range(int(spacex_df['Payload Mass (kg)'].min()), int(spacex_df['Payload Mass (kg)'].max()), 1000)},\n",
    "                                                value=[spacex_df['Payload Mass (kg)'].min(), spacex_df['Payload Mass (kg)'].max()]\n",
    "                                                ),\n",
    "                                html.Br(),\n",
    "                                html.Div(dcc.Graph(id='success-pie-chart')),\n",
    "                                html.Br(),\n",
    "                                html.P(\"Payload range (Kg):\"),\n",
    "                                html.Div(dcc.Graph(id='success-payload-scatter-chart')),\n",
    "                                ])\n",
    "\n",
    "# TASK 2:\n",
    "# Add a callback function for `site-dropdown` as input, `success-pie-chart` as output\n",
    "\n",
    "# TASK 4:\n",
    "# Add a callback function for `site-dropdown` and `payload-slider` as inputs, `success-payload-scatter-chart` as output\n",
    "\n",
    "\n",
    "# Run the app\n",
    "#if __name__ == '__main__':\n",
    "#    app.run_server()"
   ]
  },
  {
   "cell_type": "code",
   "execution_count": 8,
   "id": "527e6ef5-7a13-42e0-807b-e7ae1749f40d",
   "metadata": {
    "tags": []
   },
   "outputs": [],
   "source": [
    "# TASK 2:\n",
    "# Add a callback function for `site-dropdown` as input, `success-pie-chart` as output\n",
    "\n",
    "# Function decorator to specify function input and output\n",
    "@app.callback(\n",
    "    Output(component_id='success-pie-chart', component_property='figure'),\n",
    "    [Input(component_id='site-dropdown', component_property='value')]\n",
    ")\n",
    "def get_pie_chart(entered_site):\n",
    "    filtered_df = spacex_df\n",
    "    if entered_site == 'ALL':\n",
    "        # Create a pie chart showing the total successful launches count for all sites\n",
    "        fig = px.pie(filtered_df,\n",
    "                     names='Launch Site', \n",
    "                     title='Success Counts for All Sites')\n",
    "    else:\n",
    "        # Create a pie chart showing the Success vs. Failed counts for the selected site\n",
    "        filtered_df = filtered_df[filtered_df['Launch Site'] == entered_site]\n",
    "        fig = px.pie(filtered_df, \n",
    "                     names='class', \n",
    "                     title=f'Success Counts for {entered_site}')\n",
    "    \n",
    "    return fig\n",
    "\n",
    "# Create a callback function for `site-dropdown` and `payload-slider` as inputs and `success-payload-scatter-chart` as output\n",
    "@app.callback(\n",
    "    Output('success-payload-scatter-chart', 'figure'),\n",
    "    [Input('site-dropdown', 'value'),\n",
    "     Input('payload-slider', 'value')]\n",
    ")\n",
    "def update_scatter_chart(selected_site, payload_range):\n",
    "    if selected_site == 'ALL':\n",
    "        # Filter the dataframe for the selected payload range\n",
    "        filtered_df = spacex_df[(spacex_df['Payload Mass (kg)'] >= payload_range[0]) & (spacex_df['Payload Mass (kg)'] <= payload_range[1])]\n",
    "        title = f'Success vs. Payload for All Sites'\n",
    "    else:\n",
    "        # Filter the dataframe for the selected site and payload range\n",
    "        filtered_df = spacex_df[(spacex_df['Launch Site'] == selected_site) & \n",
    "                         (spacex_df['Payload Mass (kg)'] >= payload_range[0]) & \n",
    "                         (spacex_df['Payload Mass (kg)'] <= payload_range[1])\n",
    "                        ]\n",
    "        title = f'Success vs. Payload for {selected_site}'\n",
    "    \n",
    "    # Create a scatter chart\n",
    "    fig = px.scatter(filtered_df, x='Payload Mass (kg)', y='class', color=\"Booster Version Category\", title=title)\n",
    "    return fig"
   ]
  },
  {
   "cell_type": "code",
   "execution_count": 9,
   "id": "6b9ff36f-e666-4195-93e0-158644023844",
   "metadata": {
    "tags": []
   },
   "outputs": [
    {
     "data": {
      "text/html": [
       "\n",
       "        <iframe\n",
       "            width=\"100%\"\n",
       "            height=\"650\"\n",
       "            src=\"http://127.0.0.1:8050/\"\n",
       "            frameborder=\"0\"\n",
       "            allowfullscreen\n",
       "            \n",
       "        ></iframe>\n",
       "        "
      ],
      "text/plain": [
       "<IPython.lib.display.IFrame at 0x26ceb2e2310>"
      ]
     },
     "metadata": {},
     "output_type": "display_data"
    }
   ],
   "source": [
    "# Run the app\n",
    "if __name__ == '__main__':\n",
    "    app.run_server()"
   ]
  },
  {
   "cell_type": "markdown",
   "id": "2796236a-1d6a-4384-a27a-7c825dddbac7",
   "metadata": {},
   "source": [
    "## Finding Insights Visually"
   ]
  },
  {
   "cell_type": "markdown",
   "id": "95774c55-e8ee-4f98-964d-aa9586135bc0",
   "metadata": {},
   "source": [
    "Now with the dashboard completed, you should be able to use it to analyze SpaceX launch data, and answer the following questions:\n",
    "\n",
    "1. Which site has the largest successful launches?\n",
    "2. Which site has the highest launch success rate?\n",
    "3. Which payload range(s) has the highest launch success rate?\n",
    "4. Which payload range(s) has the lowest launch success rate?\n",
    "5. Which F9 Booster version (v1.0, v1.1, FT, B4, B5, etc.) has the highest \n",
    "launch success rate?"
   ]
  },
  {
   "cell_type": "code",
   "execution_count": null,
   "id": "6c844873-bad2-4c4a-baeb-3ae3b996639c",
   "metadata": {},
   "outputs": [],
   "source": []
  },
  {
   "cell_type": "markdown",
   "id": "61e24c6f-4d6c-42c4-806c-41ea4f97a87a",
   "metadata": {},
   "source": [
    "## TASK 1: Add a Launch Site Drop-down Input Component\n",
    "We have four different launch sites and we would like to first see which one has the largest success count. Then,\n",
    "we would like to select one specific site and check its detailed success rate (class=0 vs. class=1).\n",
    "\n",
    "As such, we will need a dropdown menu to let us select different launch sites.\n",
    "\n",
    "* Find and complete a commented <code>dcc.Dropdown(id='site-dropdown',...)</code> input with following attributes:\n",
    "    * <b style=\"color: red;\">id</b> attribute with value <b style=\"color: red;\">site-dropdown</b>\n",
    "    * options attribute is a list of dict-like option objects (with label and value attributes). You can set\n",
    "the label and value all to be the launch site names in the spacex_df\n",
    "and you need to include the default All option. e.g., \n",
    "    <code>options=[{'label': 'All Sites', 'value': 'ALL'},{'label': 'site1', 'value': 'site1'}, ...]</code>\n",
    "\n",
    "    * value attribute with default dropdown value to be ALL meaning all sites are selected\n",
    "    * placeholder attribute to show a text description about this input area, such as Select a Launch Site here\n",
    "    * searchable attribute to be True so we can enter keywords to search launch sites"
   ]
  },
  {
   "cell_type": "markdown",
   "id": "e0105f19-7b65-4d39-aadc-df426c567c29",
   "metadata": {},
   "source": [
    "## TASK 2: Add a callback function to render <code>success-pie-chart</code> based on selected site dropdown"
   ]
  },
  {
   "cell_type": "markdown",
   "id": "ded3381f-6589-4fff-8144-761b8400d3f0",
   "metadata": {},
   "source": [
    "The general idea of this callback function is to get the selected launch site from site-dropdown and render\n",
    "a pie chart visualizing launch success counts.\n",
    "\n",
    "Dash callback function is a type of Python function which will be automatically called by\n",
    "Dash whenever receiving an input component updates, such as a click or dropdown selecting event."
   ]
  },
  {
   "cell_type": "markdown",
   "id": "655b6ce6-4b2e-4f53-b71c-fdbf3c8f0ed8",
   "metadata": {},
   "source": [
    "Let’s add a callback function in spacex_dash_app.py including the following application logic:\n",
    "\n",
    "* Input is set to be the site-dropdown dropdown, i.e., Input(component_id='site-dropdown', component_property='value')\n",
    "* Output to be the graph with id success-pie-chart, i.e., Output(component_id='success-pie-chart', component_property='figure')\n",
    "* A If-Else statement to check if ALL sites were selected or just a specific launch site was selected\n",
    "    * If ALL sites are selected, we will use all rows in the dataframe spacex_df to render and return a pie chart graph to show the total success \n",
    "    launches (i.e., the total count of class column)\n",
    "    * If a specific launch site is selected, you need to filter the dataframe spacex_df first in order \n",
    "    to include the only data for the selected site. Then, render and return a pie chart graph to show the success (class=1) count and failed (class=0) count for the selected site."
   ]
  },
  {
   "cell_type": "code",
   "execution_count": 10,
   "id": "a42f7371-5173-4203-a34b-9859cf214a48",
   "metadata": {
    "tags": []
   },
   "outputs": [
    {
     "data": {
      "text/html": [
       "<div>\n",
       "<style scoped>\n",
       "    .dataframe tbody tr th:only-of-type {\n",
       "        vertical-align: middle;\n",
       "    }\n",
       "\n",
       "    .dataframe tbody tr th {\n",
       "        vertical-align: top;\n",
       "    }\n",
       "\n",
       "    .dataframe thead th {\n",
       "        text-align: right;\n",
       "    }\n",
       "</style>\n",
       "<table border=\"1\" class=\"dataframe\">\n",
       "  <thead>\n",
       "    <tr style=\"text-align: right;\">\n",
       "      <th></th>\n",
       "      <th>Unnamed: 0</th>\n",
       "      <th>Flight Number</th>\n",
       "      <th>Launch Site</th>\n",
       "      <th>class</th>\n",
       "      <th>Payload Mass (kg)</th>\n",
       "      <th>Booster Version</th>\n",
       "      <th>Booster Version Category</th>\n",
       "    </tr>\n",
       "  </thead>\n",
       "  <tbody>\n",
       "    <tr>\n",
       "      <th>0</th>\n",
       "      <td>0</td>\n",
       "      <td>1</td>\n",
       "      <td>CCAFS LC-40</td>\n",
       "      <td>0</td>\n",
       "      <td>0.0</td>\n",
       "      <td>F9 v1.0  B0003</td>\n",
       "      <td>v1.0</td>\n",
       "    </tr>\n",
       "    <tr>\n",
       "      <th>1</th>\n",
       "      <td>1</td>\n",
       "      <td>2</td>\n",
       "      <td>CCAFS LC-40</td>\n",
       "      <td>0</td>\n",
       "      <td>0.0</td>\n",
       "      <td>F9 v1.0  B0004</td>\n",
       "      <td>v1.0</td>\n",
       "    </tr>\n",
       "    <tr>\n",
       "      <th>2</th>\n",
       "      <td>2</td>\n",
       "      <td>3</td>\n",
       "      <td>CCAFS LC-40</td>\n",
       "      <td>0</td>\n",
       "      <td>525.0</td>\n",
       "      <td>F9 v1.0  B0005</td>\n",
       "      <td>v1.0</td>\n",
       "    </tr>\n",
       "    <tr>\n",
       "      <th>3</th>\n",
       "      <td>3</td>\n",
       "      <td>4</td>\n",
       "      <td>CCAFS LC-40</td>\n",
       "      <td>0</td>\n",
       "      <td>500.0</td>\n",
       "      <td>F9 v1.0  B0006</td>\n",
       "      <td>v1.0</td>\n",
       "    </tr>\n",
       "    <tr>\n",
       "      <th>4</th>\n",
       "      <td>4</td>\n",
       "      <td>5</td>\n",
       "      <td>CCAFS LC-40</td>\n",
       "      <td>0</td>\n",
       "      <td>677.0</td>\n",
       "      <td>F9 v1.0  B0007</td>\n",
       "      <td>v1.0</td>\n",
       "    </tr>\n",
       "  </tbody>\n",
       "</table>\n",
       "</div>"
      ],
      "text/plain": [
       "   Unnamed: 0  Flight Number  Launch Site  class  Payload Mass (kg)  \\\n",
       "0           0              1  CCAFS LC-40      0                0.0   \n",
       "1           1              2  CCAFS LC-40      0                0.0   \n",
       "2           2              3  CCAFS LC-40      0              525.0   \n",
       "3           3              4  CCAFS LC-40      0              500.0   \n",
       "4           4              5  CCAFS LC-40      0              677.0   \n",
       "\n",
       "  Booster Version Booster Version Category  \n",
       "0  F9 v1.0  B0003                     v1.0  \n",
       "1  F9 v1.0  B0004                     v1.0  \n",
       "2  F9 v1.0  B0005                     v1.0  \n",
       "3  F9 v1.0  B0006                     v1.0  \n",
       "4  F9 v1.0  B0007                     v1.0  "
      ]
     },
     "execution_count": 10,
     "metadata": {},
     "output_type": "execute_result"
    }
   ],
   "source": [
    "spacex_df.head()"
   ]
  },
  {
   "cell_type": "code",
   "execution_count": null,
   "id": "36df5365-800d-4387-a525-ccd517881aac",
   "metadata": {},
   "outputs": [],
   "source": []
  },
  {
   "cell_type": "markdown",
   "id": "9c5b8a18-98c8-4e89-832b-d5cbc9f1a163",
   "metadata": {},
   "source": [
    "---"
   ]
  }
 ],
 "metadata": {
  "kernelspec": {
   "display_name": "Python 3 (ipykernel)",
   "language": "python",
   "name": "python3"
  },
  "language_info": {
   "codemirror_mode": {
    "name": "ipython",
    "version": 3
   },
   "file_extension": ".py",
   "mimetype": "text/x-python",
   "name": "python",
   "nbconvert_exporter": "python",
   "pygments_lexer": "ipython3",
   "version": "3.11.4"
  }
 },
 "nbformat": 4,
 "nbformat_minor": 5
}
